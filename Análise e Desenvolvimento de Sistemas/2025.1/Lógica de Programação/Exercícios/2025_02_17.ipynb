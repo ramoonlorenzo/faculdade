{
 "cells": [
  {
   "cell_type": "code",
   "execution_count": null,
   "metadata": {},
   "outputs": [],
   "source": [
    "# Faça um Programa que peça dois números e imprima o maior deles.\n",
    "\n",
    "num1 = float(input(\"Digite o primeiro número: \"))\n",
    "num2 = float(input(\"Digite o segundo número: \"))\n",
    "\n",
    "if num1 > num2:\n",
    "    print(f\"O maior número é: {num1}\")\n",
    "elif num2 > num1:\n",
    "    print(f\"O maior número é: {num2}\")\n",
    "else:\n",
    "    print(\"Os dois números são iguais.\")"
   ]
  },
  {
   "cell_type": "code",
   "execution_count": null,
   "metadata": {},
   "outputs": [],
   "source": [
    "# Faça um Programa que peça um valor e mostre na tela se o valor é positivo ou negativo.\n",
    "\n",
    "num1 = float(input(\"Digite um número: \"))\n",
    "\n",
    "if num1 > 0:\n",
    "    print(f\"O número {num1} é positivo.\")\n",
    "elif num1 < 0:\n",
    "    print(f\"O número {num1} é negativo.\")\n",
    "else:\n",
    "    print(\"O número é zero.\")"
   ]
  },
  {
   "cell_type": "code",
   "execution_count": null,
   "metadata": {},
   "outputs": [],
   "source": [
    "# Faça um Programa que verifique se uma letra digitada é \"F\" ou \"M\". Conforme a letra escrever: F - Feminino, M - Masculino, Sexo Inválido.\n",
    "\n",
    "letra = input(\"Digite F para Feminino ou M para Masculino: \").strip().lower()\n",
    "\n",
    "if letra == \"f\":\n",
    "    print(\"Sexo Feminino.\")\n",
    "elif letra == \"m\":\n",
    "    print(\"Sexo Masculino.\")\n",
    "else:\n",
    "    print(\"Sexo Inválido.\")"
   ]
  },
  {
   "cell_type": "code",
   "execution_count": null,
   "metadata": {},
   "outputs": [],
   "source": [
    "# Faça um Programa que verifique se uma letra digitada é vogal ou consoante.\n",
    "\n",
    "letra = input(\"Digite uma letra:\").strip().lower()\n",
    "vogais = \"aeiou\"\n",
    "\n",
    "if letra in vogais and len(letra) == 1:\n",
    "    print(\"A letra é uma Vogal.\")\n",
    "elif letra.isalpha() and len(letra) == 1:\n",
    "    print(\"A letra é uma Consoante.\")\n",
    "else:\n",
    "    print(\"Caractere inválido.\")"
   ]
  },
  {
   "cell_type": "code",
   "execution_count": null,
   "metadata": {},
   "outputs": [],
   "source": [
    "# Faça um programa para a leitura de duas notas parciais de um aluno. O programa deve calcular a média alcançada por aluno e apresentar:\n",
    "\n",
    "# A mensagem \"Aprovado com Distinção\", se a média for igual a dez.\n",
    "\n",
    "# A mensagem \"Aprovado\", se a média alcançada for maior ou igual a sete;\n",
    "\n",
    "# A mensagem \"Reprovado\", se a média for menor do que sete;\n",
    "\n",
    "nota1 = float(input(\"Digite a primeira nota:\"))\n",
    "nota2 = float(input(\"Digite a segunda nota:\"))\n",
    "media = (nota1 + nota2) / 2\n",
    "\n",
    "if media == 10:\n",
    "    print(\"Aprovado com Distinção.\")\n",
    "elif media >= 7:\n",
    "    print(\"Aprovado.\")\n",
    "else:\n",
    "    print(\"Reprovado.\")"
   ]
  },
  {
   "cell_type": "code",
   "execution_count": null,
   "metadata": {},
   "outputs": [],
   "source": [
    "# Faça um Programa que leia três números e mostre o maior deles.\n",
    "\n",
    "num1 = float(input(\"Digite o primeiro número: \"))\n",
    "num2 = float(input(\"Digite o segundo número: \"))\n",
    "num3 = float(input(\"Digite o terceiro número: \"))\n",
    "maior = max(num1, num2, num3)\n",
    "\n",
    "print(f\"O maior número é: {maior}\")"
   ]
  },
  {
   "cell_type": "code",
   "execution_count": null,
   "metadata": {},
   "outputs": [],
   "source": [
    "# Faça um Programa que leia três números e mostre o maior e o menor deles.\n",
    "\n",
    "num1 = float(input(\"Digite o primeiro número: \"))\n",
    "num2 = float(input(\"Digite o segundo número: \"))\n",
    "num3 = float(input(\"Digite o terceiro número: \"))\n",
    "maior = max(num1, num2, num3)\n",
    "menor = min(num1, num2, num3)\n",
    "\n",
    "print(f\"O maior número é: {maior} e o menor número é: {menor}\")"
   ]
  },
  {
   "cell_type": "code",
   "execution_count": null,
   "metadata": {},
   "outputs": [],
   "source": [
    "# Faça um programa que pergunte o preço de três produtos e informe qual produto você deve comprar, sabendo que a decisão é sempre pelo mais barato.\n",
    "\n",
    "produto1 = float(input(\"Digite o preço do primeiro produto: \"))\n",
    "produto2 = float(input(\"Digite o preço do segundo produto: \"))\n",
    "produto3 = float(input(\"Digite o preço do terceiro produto: \"))\n",
    "mais_barato = min(produto1, produto2, produto3)\n",
    "\n",
    "print(f\"O produto mais barato custa: R$ {mais_barato}\")"
   ]
  },
  {
   "cell_type": "code",
   "execution_count": null,
   "metadata": {},
   "outputs": [],
   "source": [
    "# Faça um Programa que leia três números e mostre-os em ordem decrescente.\n",
    "\n",
    "num1 = float(input(\"Digite o primeiro número: \"))\n",
    "num2 = float(input(\"Digite o segundo número: \"))\n",
    "num3 = float(input(\"Digite o terceiro número: \"))\n",
    "\n",
    "numeros = [num1, num2, num3]\n",
    "numeros.sort(reverse=True)\n",
    "\n",
    "print(\"Números em ordem decrescente: \", numeros)"
   ]
  },
  {
   "cell_type": "code",
   "execution_count": null,
   "metadata": {},
   "outputs": [],
   "source": [
    "# Faça um Programa que pergunte em que turno você estuda. Peça para digitar M-matutino ou V-Vespertino ou N- Noturno.\n",
    "\n",
    "# Imprima a mensagem \"Bom Dia!\", \"Boa Tarde!\" ou \"Boa Noite!\" ou \"Valor Inválido!\", conforme o caso.\n",
    "\n",
    "letra_turno = input(\"Qual turno você estuda? Digite M para Matutino, V para Vespertino ou N para Noturno: \").strip().upper()\n",
    "\n",
    "\n",
    "if letra_turno == \"M\":\n",
    "    print(\"Bom dia!\")\n",
    "elif letra_turno == \"V\":\n",
    "    print(\"Boa tarde!\")\n",
    "elif letra_turno == \"N\":\n",
    "    print(\"Boa noite!\")\n",
    "else:\n",
    "    print(\"Valor inválido.\")"
   ]
  }
 ],
 "metadata": {
  "kernelspec": {
   "display_name": "Python 3",
   "language": "python",
   "name": "python3"
  },
  "language_info": {
   "codemirror_mode": {
    "name": "ipython",
    "version": 3
   },
   "file_extension": ".py",
   "mimetype": "text/x-python",
   "name": "python",
   "nbconvert_exporter": "python",
   "pygments_lexer": "ipython3",
   "version": "3.13.2"
  }
 },
 "nbformat": 4,
 "nbformat_minor": 2
}
